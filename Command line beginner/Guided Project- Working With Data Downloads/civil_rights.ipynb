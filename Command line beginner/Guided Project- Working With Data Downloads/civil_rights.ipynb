{
 "cells": [
  {
   "cell_type": "markdown",
   "metadata": {},
   "source": [
    "# Reading Dataset"
   ]
  },
  {
   "cell_type": "code",
   "execution_count": 1,
   "metadata": {},
   "outputs": [],
   "source": [
    "import pandas as pd\n",
    "import matplotlib.pyplot as plt\n",
    "%matplotlib inline\n",
    "import numpy as np\n",
    "import re"
   ]
  },
  {
   "cell_type": "code",
   "execution_count": 2,
   "metadata": {},
   "outputs": [],
   "source": [
    "data=pd.read_csv('data/CRDC2013_14.csv')"
   ]
  },
  {
   "cell_type": "code",
   "execution_count": 3,
   "metadata": {},
   "outputs": [
    {
     "data": {
      "text/html": [
       "<div>\n",
       "<style scoped>\n",
       "    .dataframe tbody tr th:only-of-type {\n",
       "        vertical-align: middle;\n",
       "    }\n",
       "\n",
       "    .dataframe tbody tr th {\n",
       "        vertical-align: top;\n",
       "    }\n",
       "\n",
       "    .dataframe thead th {\n",
       "        text-align: right;\n",
       "    }\n",
       "</style>\n",
       "<table border=\"1\" class=\"dataframe\">\n",
       "  <thead>\n",
       "    <tr style=\"text-align: right;\">\n",
       "      <th></th>\n",
       "      <th>LEA_STATE</th>\n",
       "      <th>LEA_NAME</th>\n",
       "      <th>SCH_NAME</th>\n",
       "      <th>COMBOKEY</th>\n",
       "      <th>LEAID</th>\n",
       "      <th>SCHID</th>\n",
       "      <th>JJ</th>\n",
       "      <th>CCD_LATCOD</th>\n",
       "      <th>CCD_LONCOD</th>\n",
       "      <th>NCES_SCHOOL_ID</th>\n",
       "      <th>...</th>\n",
       "      <th>SCH_FTE_TEACH_WOFED</th>\n",
       "      <th>SCH_SAL_TEACH_WOFED</th>\n",
       "      <th>SCH_NPE_WOFED</th>\n",
       "      <th>DSO_SCH_FTE_TEACH_WOFED</th>\n",
       "      <th>DSO_SCH_NPE_WOFED</th>\n",
       "      <th>DSO_SCH_SAL_INSTR_WOFED</th>\n",
       "      <th>DSO_SCH_SAL_TEACH_WOFED</th>\n",
       "      <th>SCH_JJTYPE</th>\n",
       "      <th>SCH_JJSYDAYS</th>\n",
       "      <th>SCH_JJHOURS</th>\n",
       "    </tr>\n",
       "  </thead>\n",
       "  <tbody>\n",
       "    <tr>\n",
       "      <th>0</th>\n",
       "      <td>TX</td>\n",
       "      <td>DENTON ISD</td>\n",
       "      <td>RYAN EL</td>\n",
       "      <td>481674008530</td>\n",
       "      <td>4816740</td>\n",
       "      <td>8530</td>\n",
       "      <td>NO</td>\n",
       "      <td>33.1604</td>\n",
       "      <td>-97.1354</td>\n",
       "      <td>4.816740e+11</td>\n",
       "      <td>...</td>\n",
       "      <td>39.00</td>\n",
       "      <td>2274986.15</td>\n",
       "      <td>316158.74</td>\n",
       "      <td>0</td>\n",
       "      <td>0</td>\n",
       "      <td>0</td>\n",
       "      <td>0</td>\n",
       "      <td>-9</td>\n",
       "      <td>-9</td>\n",
       "      <td>-9</td>\n",
       "    </tr>\n",
       "    <tr>\n",
       "      <th>1</th>\n",
       "      <td>LA</td>\n",
       "      <td>LAFAYETTE PARISH</td>\n",
       "      <td>JUDICE MIDDLE SCHOOL</td>\n",
       "      <td>220087000675</td>\n",
       "      <td>2200870</td>\n",
       "      <td>675</td>\n",
       "      <td>NO</td>\n",
       "      <td>30.1673</td>\n",
       "      <td>-92.1403</td>\n",
       "      <td>2.200870e+11</td>\n",
       "      <td>...</td>\n",
       "      <td>32.95</td>\n",
       "      <td>1585446.66</td>\n",
       "      <td>32769.37</td>\n",
       "      <td>0</td>\n",
       "      <td>0</td>\n",
       "      <td>0</td>\n",
       "      <td>0</td>\n",
       "      <td>-9</td>\n",
       "      <td>-9</td>\n",
       "      <td>-9</td>\n",
       "    </tr>\n",
       "    <tr>\n",
       "      <th>2</th>\n",
       "      <td>GA</td>\n",
       "      <td>HENRY COUNTY</td>\n",
       "      <td>EAGLE'S LANDING MIDDLE SCHOOL</td>\n",
       "      <td>130282000399</td>\n",
       "      <td>1302820</td>\n",
       "      <td>399</td>\n",
       "      <td>NO</td>\n",
       "      <td>33.4885</td>\n",
       "      <td>-84.2086</td>\n",
       "      <td>1.302820e+11</td>\n",
       "      <td>...</td>\n",
       "      <td>48.18</td>\n",
       "      <td>2294195.77</td>\n",
       "      <td>0.00</td>\n",
       "      <td>0</td>\n",
       "      <td>0</td>\n",
       "      <td>0</td>\n",
       "      <td>0</td>\n",
       "      <td>-9</td>\n",
       "      <td>-9</td>\n",
       "      <td>-9</td>\n",
       "    </tr>\n",
       "    <tr>\n",
       "      <th>3</th>\n",
       "      <td>FL</td>\n",
       "      <td>MONROE</td>\n",
       "      <td>KEYS CENTER</td>\n",
       "      <td>120132007521</td>\n",
       "      <td>1201320</td>\n",
       "      <td>7521</td>\n",
       "      <td>NO</td>\n",
       "      <td>24.5638</td>\n",
       "      <td>-81.7980</td>\n",
       "      <td>1.201320e+11</td>\n",
       "      <td>...</td>\n",
       "      <td>1.00</td>\n",
       "      <td>61369.15</td>\n",
       "      <td>34275.00</td>\n",
       "      <td>0</td>\n",
       "      <td>0</td>\n",
       "      <td>0</td>\n",
       "      <td>0</td>\n",
       "      <td>-9</td>\n",
       "      <td>-9</td>\n",
       "      <td>-9</td>\n",
       "    </tr>\n",
       "    <tr>\n",
       "      <th>4</th>\n",
       "      <td>OH</td>\n",
       "      <td>CLARK-SHAWNEE LOCAL</td>\n",
       "      <td>POSSUM ELEMENTARY SCHOOL</td>\n",
       "      <td>390462802499</td>\n",
       "      <td>3904628</td>\n",
       "      <td>2499</td>\n",
       "      <td>NO</td>\n",
       "      <td>39.8864</td>\n",
       "      <td>-83.8388</td>\n",
       "      <td>3.904628e+11</td>\n",
       "      <td>...</td>\n",
       "      <td>14.02</td>\n",
       "      <td>840251.25</td>\n",
       "      <td>616504.50</td>\n",
       "      <td>0</td>\n",
       "      <td>0</td>\n",
       "      <td>0</td>\n",
       "      <td>0</td>\n",
       "      <td>-9</td>\n",
       "      <td>-9</td>\n",
       "      <td>-9</td>\n",
       "    </tr>\n",
       "  </tbody>\n",
       "</table>\n",
       "<p>5 rows × 1929 columns</p>\n",
       "</div>"
      ],
      "text/plain": [
       "  LEA_STATE             LEA_NAME                       SCH_NAME      COMBOKEY  \\\n",
       "0        TX           DENTON ISD                        RYAN EL  481674008530   \n",
       "1        LA     LAFAYETTE PARISH           JUDICE MIDDLE SCHOOL  220087000675   \n",
       "2        GA         HENRY COUNTY  EAGLE'S LANDING MIDDLE SCHOOL  130282000399   \n",
       "3        FL               MONROE                    KEYS CENTER  120132007521   \n",
       "4        OH  CLARK-SHAWNEE LOCAL       POSSUM ELEMENTARY SCHOOL  390462802499   \n",
       "\n",
       "     LEAID  SCHID  JJ  CCD_LATCOD  CCD_LONCOD  NCES_SCHOOL_ID     ...      \\\n",
       "0  4816740   8530  NO     33.1604    -97.1354    4.816740e+11     ...       \n",
       "1  2200870    675  NO     30.1673    -92.1403    2.200870e+11     ...       \n",
       "2  1302820    399  NO     33.4885    -84.2086    1.302820e+11     ...       \n",
       "3  1201320   7521  NO     24.5638    -81.7980    1.201320e+11     ...       \n",
       "4  3904628   2499  NO     39.8864    -83.8388    3.904628e+11     ...       \n",
       "\n",
       "  SCH_FTE_TEACH_WOFED SCH_SAL_TEACH_WOFED SCH_NPE_WOFED  \\\n",
       "0               39.00          2274986.15     316158.74   \n",
       "1               32.95          1585446.66      32769.37   \n",
       "2               48.18          2294195.77          0.00   \n",
       "3                1.00            61369.15      34275.00   \n",
       "4               14.02           840251.25     616504.50   \n",
       "\n",
       "  DSO_SCH_FTE_TEACH_WOFED DSO_SCH_NPE_WOFED DSO_SCH_SAL_INSTR_WOFED  \\\n",
       "0                       0                 0                       0   \n",
       "1                       0                 0                       0   \n",
       "2                       0                 0                       0   \n",
       "3                       0                 0                       0   \n",
       "4                       0                 0                       0   \n",
       "\n",
       "  DSO_SCH_SAL_TEACH_WOFED SCH_JJTYPE SCH_JJSYDAYS SCH_JJHOURS  \n",
       "0                       0         -9           -9          -9  \n",
       "1                       0         -9           -9          -9  \n",
       "2                       0         -9           -9          -9  \n",
       "3                       0         -9           -9          -9  \n",
       "4                       0         -9           -9          -9  \n",
       "\n",
       "[5 rows x 1929 columns]"
      ]
     },
     "execution_count": 3,
     "metadata": {},
     "output_type": "execute_result"
    }
   ],
   "source": [
    "data.head()"
   ]
  },
  {
   "cell_type": "markdown",
   "metadata": {},
   "source": [
    "# Analyzing juvenile justice and status magnet"
   ]
  },
  {
   "cell_type": "code",
   "execution_count": 4,
   "metadata": {
    "scrolled": true
   },
   "outputs": [
    {
     "name": "stdout",
     "output_type": "stream",
     "text": [
      "NO     992\n",
      "YES      8\n",
      "Name: JJ, dtype: int64\n",
      "NO     948\n",
      "YES     52\n",
      "Name: SCH_STATUS_MAGNET, dtype: int64\n"
     ]
    }
   ],
   "source": [
    "print(data[\"JJ\"].value_counts())\n",
    "print(data[\"SCH_STATUS_MAGNET\"].value_counts())"
   ]
  },
  {
   "cell_type": "code",
   "execution_count": 5,
   "metadata": {},
   "outputs": [
    {
     "name": "stdout",
     "output_type": "stream",
     "text": [
      "     TOT_ENR_F  TOT_ENR_M\n",
      "JJ                       \n",
      "NO      252915     266702\n",
      "YES         71        427\n",
      "                   TOT_ENR_F  TOT_ENR_M\n",
      "SCH_STATUS_MAGNET                      \n",
      "NO                    232487     245629\n",
      "YES                    20499      21500\n"
     ]
    }
   ],
   "source": [
    "pivot_jj=data.pivot_table(index='JJ',values=['TOT_ENR_M','TOT_ENR_F'],aggfunc=np.sum)\n",
    "pivot_sch_status=data.pivot_table(index='SCH_STATUS_MAGNET',values=['TOT_ENR_M','TOT_ENR_F'],aggfunc=np.sum)\n",
    "   \n",
    "print(pivot_jj)\n",
    "print(pivot_sch_status)"
   ]
  },
  {
   "cell_type": "markdown",
   "metadata": {},
   "source": [
    "# Exploring Gender Distribution in Enrollment"
   ]
  },
  {
   "cell_type": "code",
   "execution_count": 6,
   "metadata": {},
   "outputs": [
    {
     "data": {
      "text/plain": [
       "TOT_ENR_M    0.513596\n",
       "TOT_ENR_F    0.486404\n",
       "dtype: float64"
      ]
     },
     "execution_count": 6,
     "metadata": {},
     "output_type": "execute_result"
    }
   ],
   "source": [
    "data['total_enrollments'] = data['TOT_ENR_M'] + data['TOT_ENR_F']\n",
    "data[['TOT_ENR_M','TOT_ENR_F']].sum()/data['total_enrollments'].sum()\n"
   ]
  },
  {
   "cell_type": "code",
   "execution_count": 7,
   "metadata": {},
   "outputs": [
    {
     "data": {
      "text/plain": [
       "<matplotlib.axes._subplots.AxesSubplot at 0x7f5a7f5d1cf8>"
      ]
     },
     "execution_count": 7,
     "metadata": {},
     "output_type": "execute_result"
    },
    {
     "data": {
      "image/png": "[encoded data removed]",
      "text/plain": [
       "<matplotlib.figure.Figure at 0x7f5a7f8c3710>"
      ]
     },
     "metadata": {},
     "output_type": "display_data"
    }
   ],
   "source": [
    "(data[['TOT_ENR_M','TOT_ENR_F']].sum()/data['total_enrollments'].sum()).plot.barh()\n"
   ]
  },
  {
   "cell_type": "markdown",
   "metadata": {},
   "source": [
    "# Exploring Race and Gender Distributions in Enrollment"
   ]
  },
  {
   "cell_type": "code",
   "execution_count": 8,
   "metadata": {},
   "outputs": [
    {
     "data": {
      "text/plain": [
       "SCH_ENR_HI_M    0.134426\n",
       "SCH_ENR_HI_F    0.127153\n",
       "SCH_ENR_AM_M    0.007250\n",
       "SCH_ENR_AM_F    0.006898\n",
       "SCH_ENR_AS_M    0.025740\n",
       "SCH_ENR_AS_F    0.024696\n",
       "SCH_ENR_HP_M    0.001805\n",
       "SCH_ENR_HP_F    0.001884\n",
       "SCH_ENR_BL_M    0.072086\n",
       "SCH_ENR_BL_F    0.069121\n",
       "SCH_ENR_WH_M    0.257076\n",
       "SCH_ENR_WH_F    0.241385\n",
       "SCH_ENR_TR_M    0.015212\n",
       "SCH_ENR_TR_F    0.015266\n",
       "dtype: float64"
      ]
     },
     "execution_count": 8,
     "metadata": {},
     "output_type": "execute_result"
    }
   ],
   "source": [
    "cols = ['SCH_ENR_HI_M',\n",
    " 'SCH_ENR_HI_F',\n",
    " 'SCH_ENR_AM_M',\n",
    " 'SCH_ENR_AM_F',\n",
    " 'SCH_ENR_AS_M',\n",
    " 'SCH_ENR_AS_F',\n",
    " 'SCH_ENR_HP_M',\n",
    " 'SCH_ENR_HP_F',\n",
    " 'SCH_ENR_BL_M',\n",
    " 'SCH_ENR_BL_F',\n",
    " 'SCH_ENR_WH_M',\n",
    " 'SCH_ENR_WH_F',\n",
    " 'SCH_ENR_TR_M',\n",
    " 'SCH_ENR_TR_F']\n",
    "\n",
    "data[cols].sum()/data['total_enrollments'].sum()"
   ]
  },
  {
   "cell_type": "code",
   "execution_count": 9,
   "metadata": {},
   "outputs": [
    {
     "data": {
      "image/png": "[encoded data removed]",
      "text/plain": [
       "<matplotlib.figure.Figure at 0x7f5a7f901cc0>"
      ]
     },
     "metadata": {},
     "output_type": "display_data"
    }
   ],
   "source": [
    "ax = (data[cols].sum()/data['total_enrollments'].sum()).plot.barh()"
   ]
  },
  {
   "cell_type": "markdown",
   "metadata": {},
   "source": [
    "# Gender Differences in Magnet Schools\n"
   ]
  },
  {
   "cell_type": "code",
   "execution_count": 10,
   "metadata": {},
   "outputs": [
    {
     "data": {
      "text/plain": [
       "TOT_ENR_M    0.511917\n",
       "TOT_ENR_F    0.488083\n",
       "dtype: float64"
      ]
     },
     "execution_count": 10,
     "metadata": {},
     "output_type": "execute_result"
    }
   ],
   "source": [
    "magnet_schools = data[data['SCH_STATUS_MAGNET']=='YES']\n",
    "\n",
    "magnet_schools[['TOT_ENR_M','TOT_ENR_F']].sum()/magnet_schools['total_enrollments'].sum()\n"
   ]
  },
  {
   "cell_type": "code",
   "execution_count": 11,
   "metadata": {},
   "outputs": [
    {
     "data": {
      "text/plain": [
       "<matplotlib.axes._subplots.AxesSubplot at 0x7f5a7cf2f860>"
      ]
     },
     "execution_count": 11,
     "metadata": {},
     "output_type": "execute_result"
    },
    {
     "data": {
      "image/png": "[encoded data removed]",
      "text/plain": [
       "<matplotlib.figure.Figure at 0x7f5a7cf13ac8>"
      ]
     },
     "metadata": {},
     "output_type": "display_data"
    }
   ],
   "source": [
    "(magnet_schools[['TOT_ENR_M','TOT_ENR_F']].sum()/magnet_schools['total_enrollments'].sum()).plot.barh()"
   ]
  },
  {
   "cell_type": "markdown",
   "metadata": {},
   "source": [
    "# Gender and Race Differences in Magnet Schools"
   ]
  },
  {
   "cell_type": "code",
   "execution_count": 12,
   "metadata": {},
   "outputs": [
    {
     "data": {
      "text/plain": [
       "SCH_ENR_HI_M    0.188338\n",
       "SCH_ENR_HI_F    0.171885\n",
       "SCH_ENR_AM_M    0.002952\n",
       "SCH_ENR_AM_F    0.002310\n",
       "SCH_ENR_AS_M    0.036001\n",
       "SCH_ENR_AS_F    0.034453\n",
       "SCH_ENR_HP_M    0.000905\n",
       "SCH_ENR_HP_F    0.001357\n",
       "SCH_ENR_BL_M    0.129313\n",
       "SCH_ENR_BL_F    0.126622\n",
       "SCH_ENR_WH_M    0.143051\n",
       "SCH_ENR_WH_F    0.139027\n",
       "SCH_ENR_TR_M    0.011357\n",
       "SCH_ENR_TR_F    0.012429\n",
       "dtype: float64"
      ]
     },
     "execution_count": 12,
     "metadata": {},
     "output_type": "execute_result"
    }
   ],
   "source": [
    "magnet_schools[cols].sum()/magnet_schools['total_enrollments'].sum()"
   ]
  },
  {
   "cell_type": "code",
   "execution_count": 13,
   "metadata": {},
   "outputs": [
    {
     "data": {
      "text/plain": [
       "<matplotlib.axes._subplots.AxesSubplot at 0x7f5a7ce5fbe0>"
      ]
     },
     "execution_count": 13,
     "metadata": {},
     "output_type": "execute_result"
    },
    {
     "data": {
      "image/png": "[encoded data removed]",
      "text/plain": [
       "<matplotlib.figure.Figure at 0x7f5a7cee0f60>"
      ]
     },
     "metadata": {},
     "output_type": "display_data"
    }
   ],
   "source": [
    "(magnet_schools[cols].sum()/magnet_schools['total_enrollments'].sum()).plot.barh()"
   ]
  }
 ],
 "metadata": {
  "kernelspec": {
   "display_name": "Python 3",
   "language": "python",
   "name": "python3"
  },
  "language_info": {
   "codemirror_mode": {
    "name": "ipython",
    "version": 3
   },
   "file_extension": ".py",
   "mimetype": "text/x-python",
   "name": "python",
   "nbconvert_exporter": "python",
   "pygments_lexer": "ipython3",
   "version": "3.6.4"
  }
 },
 "nbformat": 4,
 "nbformat_minor": 2
}
