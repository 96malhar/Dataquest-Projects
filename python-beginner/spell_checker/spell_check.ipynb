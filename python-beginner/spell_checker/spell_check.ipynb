{
 "cells": [
  {
   "cell_type": "markdown",
   "metadata": {},
   "source": [
    "# introduction to data set"
   ]
  },
  {
   "cell_type": "code",
   "execution_count": 1,
   "metadata": {},
   "outputs": [],
   "source": [
    "a=open(\"dictionary.txt\").read()"
   ]
  },
  {
   "cell_type": "code",
   "execution_count": 2,
   "metadata": {},
   "outputs": [
    {
     "data": {
      "text/plain": [
       "'a about after almost along alternating an and anguish around at back ball became best but buy came cold come crop crazy curled day days decided decided eat even ever everyone farmer farmer find finest for found freezing farmer gave go going great grow growing guidance had hard he heat him his if immediately in into it journey julius juliuss keep knew last long magic managed many much months named never night noble noon of on once one out people persevered potatoes probably praises raining reggie roadside sang searing secret seek seen set shouldnt sign sky sleep so soaked started stopped store storekeeper that the there this to told travelled trees tried try umbrella underneath undeterred village was were who whole wondered world'"
      ]
     },
     "execution_count": 2,
     "metadata": {},
     "output_type": "execute_result"
    }
   ],
   "source": [
    "a"
   ]
  },
  {
   "cell_type": "code",
   "execution_count": 3,
   "metadata": {},
   "outputs": [],
   "source": [
    "b=open(\"story.txt\").read()"
   ]
  },
  {
   "cell_type": "code",
   "execution_count": 4,
   "metadata": {},
   "outputs": [
    {
     "data": {
      "text/plain": [
       "\"There was once a great and noble frmer named Julius.  He was the best farmer in his village, and prabably even the whole world.  One day, he decidid to grw potatoes.\\n\\n Julius knew that potatoes were hard to grow, so he kniw he hd to goe to the magic farmer in the sky to seek his guidance.  Julius set out on his journey aroudn noon one day.  It started raining almosty immediately.\\n\\n Julius wondered if this was a sign that he shouldn't go on, but he perserved.  He became soaked, and stoped in the store to buy an umbrella.  He told the storekeeper, Reggie, about his journey.\\n\\n Reggie told him that he was crzy to seek out the magic farmer; the last 10 people to try to find him had never come back.  Julius was undetered and decided to keep going.\\n\\n He travelled many long days in alternatng searing heat and freezing cold.  At night, he curled into a ball and tried to sleep underneath trees along the roadside.\\n\\n After mich anguish, Julius found the magic farmer, who gave him the secret of growing potatoes.\\n\""
      ]
     },
     "execution_count": 4,
     "metadata": {},
     "output_type": "execute_result"
    }
   ],
   "source": [
    "b"
   ]
  },
  {
   "cell_type": "markdown",
   "metadata": {},
   "source": [
    "# function to clean text"
   ]
  },
  {
   "cell_type": "code",
   "execution_count": 5,
   "metadata": {},
   "outputs": [],
   "source": [
    "def clean_text(string_file,spec_charac):\n",
    "    clean_string=string_file\n",
    "    for each_charac in spec_charac:\n",
    "        clean_string=clean_string.replace(each_charac,\"\")\n",
    "    clean_string=clean_string.lower()\n",
    "    \n",
    "    return clean_string"
   ]
  },
  {
   "cell_type": "markdown",
   "metadata": {},
   "source": [
    "# function to create tokens"
   ]
  },
  {
   "cell_type": "code",
   "execution_count": 6,
   "metadata": {},
   "outputs": [],
   "source": [
    "def tokenize(string_file,spec_charac,clear=False):\n",
    "    cleaned_string=string_file\n",
    "    if clear:\n",
    "        cleaned_string=clean_text(string_file,spec_charac)\n",
    "    token_list=cleaned_string.split(\" \")\n",
    "    return token_list"
   ]
  },
  {
   "cell_type": "markdown",
   "metadata": {},
   "source": [
    "# function to check spellings"
   ]
  },
  {
   "cell_type": "code",
   "execution_count": 7,
   "metadata": {},
   "outputs": [],
   "source": [
    "def spell_check(dictionary,story,spec_charac=[\",\", \".\", \"'\", \";\", \"\\n\"]):\n",
    "    d_text=open(dictionary).read()\n",
    "    s_text=open(story).read()\n",
    "    misspelled_words=[]\n",
    "    \n",
    "    tokenized_dictionary=tokenize(d_text,spec_charac)\n",
    "    tokenized_story=tokenize(s_text,spec_charac,True)\n",
    "    \n",
    "    for token in tokenized_story:\n",
    "        if token not in tokenized_dictionary and token!=\"\":\n",
    "            misspelled_words.append(token)\n",
    "            \n",
    "    return misspelled_words       "
   ]
  },
  {
   "cell_type": "markdown",
   "metadata": {},
   "source": [
    "# print misspelled words"
   ]
  },
  {
   "cell_type": "code",
   "execution_count": 8,
   "metadata": {},
   "outputs": [],
   "source": [
    "final_misspelled_words=spell_check(story=\"story.txt\",dictionary=\"dictionary.txt\")"
   ]
  },
  {
   "cell_type": "code",
   "execution_count": 9,
   "metadata": {},
   "outputs": [
    {
     "name": "stdout",
     "output_type": "stream",
     "text": [
      "['frmer', 'prabably', 'decidid', 'grw', 'kniw', 'hd', 'goe', 'aroudn', 'almosty', 'perserved', 'stoped', 'crzy', '10', 'undetered', 'alternatng', 'mich']\n"
     ]
    }
   ],
   "source": [
    "print(final_misspelled_words)"
   ]
  }
 ],
 "metadata": {
  "kernelspec": {
   "display_name": "Python 3",
   "language": "python",
   "name": "python3"
  },
  "language_info": {
   "codemirror_mode": {
    "name": "ipython",
    "version": 3
   },
   "file_extension": ".py",
   "mimetype": "text/x-python",
   "name": "python",
   "nbconvert_exporter": "python",
   "pygments_lexer": "ipython3",
   "version": "3.6.4"
  }
 },
 "nbformat": 4,
 "nbformat_minor": 2
}
